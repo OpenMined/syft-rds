{
 "cells": [
  {
   "cell_type": "markdown",
   "id": "0",
   "metadata": {},
   "source": [
    "## Data Owner Creates Dataset"
   ]
  },
  {
   "cell_type": "code",
   "execution_count": null,
   "id": "1",
   "metadata": {},
   "outputs": [],
   "source": [
    "from pathlib import Path\n",
    "import requests\n",
    "import zipfile\n",
    "import io\n",
    "\n",
    "from syft_rds.client.rds_client import init_session\n",
    "from syft_rds.orchestra import setup_rds_server, remove_rds_stack_dir\n",
    "\n",
    "remove_rds_stack_dir(key=\"rds\", root_dir=Path(\".\"))"
   ]
  },
  {
   "cell_type": "code",
   "execution_count": null,
   "id": "2",
   "metadata": {},
   "outputs": [],
   "source": [
    "do_stack = setup_rds_server(email=\"do@openmined.org\", key=\"rds\", root_dir=Path(\".\"))\n",
    "do = init_session(host=\"do@openmined.org\", syftbox_client=do_stack.client)\n",
    "\n",
    "print(f\"host: {do.host}\")\n",
    "print(f\"me: {do.email}\")\n",
    "print(f\"is admin?: {do.is_admin}\")\n",
    "print(f\"server = {do._syftbox_client.config.server_url}\")\n",
    "assert do.is_admin"
   ]
  },
  {
   "cell_type": "code",
   "execution_count": null,
   "id": "3",
   "metadata": {},
   "outputs": [],
   "source": [
    "do.dataset.get_all()"
   ]
  },
  {
   "cell_type": "code",
   "execution_count": null,
   "id": "4",
   "metadata": {},
   "outputs": [],
   "source": [
    "if not Path(\"./data\").exists():\n",
    "    print(\"--- downloading some data into './data'\")\n",
    "    url = \"https://raw.githubusercontent.com/khoaguin/datasets/main/census.zip\"\n",
    "    r = requests.get(url)\n",
    "    z = zipfile.ZipFile(io.BytesIO(r.content))\n",
    "    z.extractall(\"./data/\")\n",
    "\n",
    "    url = \"https://raw.githubusercontent.com/khoaguin/datasets/main/med_MNIST.zip\"\n",
    "    r = requests.get(url)\n",
    "    z = zipfile.ZipFile(io.BytesIO(r.content))\n",
    "    z.extractall(\"./data/\")"
   ]
  },
  {
   "cell_type": "markdown",
   "id": "5",
   "metadata": {},
   "source": [
    "### First Dataset"
   ]
  },
  {
   "cell_type": "code",
   "execution_count": null,
   "id": "6",
   "metadata": {},
   "outputs": [],
   "source": [
    "data = do.dataset.create(\n",
    "    name=\"Census\",  # MUST BE UNIQUE. Throw Exception if already exist.\n",
    "    path=\"./data/census/private\",  # MUST EXIST\n",
    "    mock_path=\"./data/census/mock\",\n",
    "    summary=\"Sample census dataset, 10 rows for mock and 10 rows for private\",\n",
    "    description_path=\"./data/census/README.md\",\n",
    ")\n",
    "data"
   ]
  },
  {
   "cell_type": "code",
   "execution_count": null,
   "id": "7",
   "metadata": {},
   "outputs": [],
   "source": [
    "census_data = do.dataset.get(name=\"Census\")\n",
    "census_data"
   ]
  },
  {
   "cell_type": "code",
   "execution_count": null,
   "id": "8",
   "metadata": {},
   "outputs": [],
   "source": [
    "census_data.get_mock_path()"
   ]
  },
  {
   "cell_type": "code",
   "execution_count": null,
   "id": "9",
   "metadata": {},
   "outputs": [],
   "source": [
    "census_data.describe()"
   ]
  },
  {
   "cell_type": "code",
   "execution_count": null,
   "id": "10",
   "metadata": {},
   "outputs": [],
   "source": [
    "import pandas as pd\n",
    "\n",
    "pd.read_csv(census_data.get_mock_path() / \"data.csv\")"
   ]
  },
  {
   "cell_type": "code",
   "execution_count": null,
   "id": "11",
   "metadata": {},
   "outputs": [],
   "source": [
    "census_data.get_readme_path()"
   ]
  },
  {
   "cell_type": "code",
   "execution_count": null,
   "id": "12",
   "metadata": {},
   "outputs": [],
   "source": [
    "census_data.get_description()"
   ]
  },
  {
   "cell_type": "code",
   "execution_count": null,
   "id": "13",
   "metadata": {},
   "outputs": [],
   "source": [
    "census_data.get_private_path()"
   ]
  },
  {
   "cell_type": "markdown",
   "id": "14",
   "metadata": {},
   "source": [
    "### Second Dataset"
   ]
  },
  {
   "cell_type": "code",
   "execution_count": null,
   "id": "15",
   "metadata": {},
   "outputs": [],
   "source": [
    "data2 = do.dataset.create(\n",
    "    name=\"MedMNIST\",  # MUST BE UNIQUE. Throw Exception if already exist.\n",
    "    path=\"./data/med_MNIST/private\",  # MUST EXIST\n",
    "    mock_path=\"./data/med_MNIST/mock\",\n",
    "    summary=\"Sample Medical MNIST dataset, 5 images for each class\",\n",
    "    description_path=\"./data/med_MNIST/README.md\",\n",
    ")\n",
    "data2"
   ]
  },
  {
   "cell_type": "code",
   "execution_count": null,
   "id": "16",
   "metadata": {},
   "outputs": [],
   "source": [
    "medMnist_data = do.dataset.get(name=\"MedMNIST\")\n",
    "medMnist_data"
   ]
  },
  {
   "cell_type": "code",
   "execution_count": null,
   "id": "17",
   "metadata": {},
   "outputs": [],
   "source": [
    "medMnist_data.get_mock_path()"
   ]
  },
  {
   "cell_type": "code",
   "execution_count": null,
   "id": "18",
   "metadata": {},
   "outputs": [],
   "source": [
    "medMnist_data.describe()"
   ]
  },
  {
   "cell_type": "code",
   "execution_count": null,
   "id": "19",
   "metadata": {},
   "outputs": [],
   "source": [
    "!uv pip install matplotlib\n",
    "import matplotlib.pyplot as plt\n",
    "import numpy as np\n",
    "from PIL import Image\n",
    "\n",
    "# show the first image\n",
    "test_dir = medMnist_data.get_mock_path() / \"test\"\n",
    "first_subdir = next(d for d in test_dir.iterdir() if d.is_dir())\n",
    "first_jpeg = next(first_subdir.glob(\"*.jpeg\"))\n",
    "img = np.asarray(Image.open(first_jpeg))\n",
    "plt.imshow(img)"
   ]
  },
  {
   "cell_type": "code",
   "execution_count": null,
   "id": "20",
   "metadata": {},
   "outputs": [],
   "source": [
    "medMnist_data.get_description()"
   ]
  },
  {
   "cell_type": "code",
   "execution_count": null,
   "id": "21",
   "metadata": {},
   "outputs": [],
   "source": [
    "medMnist_data.get_private_path()"
   ]
  },
  {
   "cell_type": "markdown",
   "id": "22",
   "metadata": {},
   "source": [
    "## DS"
   ]
  },
  {
   "cell_type": "code",
   "execution_count": null,
   "id": "23",
   "metadata": {},
   "outputs": [],
   "source": [
    "from syft_rds.client.rds_client import init_session\n",
    "\n",
    "ds_stack = setup_rds_server(email=\"ds@openmined.org\", key=\"rds\", root_dir=Path(\".\"))\n",
    "\n",
    "ds = ds_stack.init_session(host=\"do@openmined.org\")\n",
    "print(f\"host: {ds.host}\")\n",
    "print(f\"me: {ds.email}\")\n",
    "print(f\"is admin?: {ds.is_admin}\")\n",
    "assert not ds.is_admin"
   ]
  },
  {
   "cell_type": "code",
   "execution_count": null,
   "id": "24",
   "metadata": {},
   "outputs": [],
   "source": [
    "datasets = ds.dataset.get_all()\n",
    "datasets"
   ]
  },
  {
   "cell_type": "code",
   "execution_count": null,
   "id": "25",
   "metadata": {},
   "outputs": [],
   "source": [
    "assert len(datasets) == 2"
   ]
  },
  {
   "cell_type": "markdown",
   "id": "26",
   "metadata": {},
   "source": [
    "## DO delete datasets"
   ]
  },
  {
   "cell_type": "code",
   "execution_count": null,
   "id": "27",
   "metadata": {},
   "outputs": [],
   "source": [
    "do.dataset.delete(name=\"Census\")\n",
    "do.dataset.delete(name=\"MedMNIST\")"
   ]
  },
  {
   "cell_type": "markdown",
   "id": "28",
   "metadata": {},
   "source": [
    "## Cleaning"
   ]
  },
  {
   "cell_type": "code",
   "execution_count": null,
   "id": "29",
   "metadata": {},
   "outputs": [],
   "source": [
    "remove_rds_stack_dir(key=\"rds\", root_dir=Path(\".\"))"
   ]
  },
  {
   "cell_type": "code",
   "execution_count": null,
   "id": "30",
   "metadata": {},
   "outputs": [],
   "source": [
    "!rm -rf \"./data\""
   ]
  },
  {
   "cell_type": "code",
   "execution_count": null,
   "id": "31",
   "metadata": {},
   "outputs": [],
   "source": []
  },
  {
   "cell_type": "code",
   "execution_count": null,
   "id": "32",
   "metadata": {},
   "outputs": [],
   "source": []
  },
  {
   "cell_type": "code",
   "execution_count": null,
   "id": "33",
   "metadata": {},
   "outputs": [],
   "source": []
  },
  {
   "cell_type": "code",
   "execution_count": null,
   "id": "34",
   "metadata": {},
   "outputs": [],
   "source": []
  }
 ],
 "metadata": {
  "kernelspec": {
   "display_name": ".venv",
   "language": "python",
   "name": "python3"
  },
  "language_info": {
   "codemirror_mode": {
    "name": "ipython",
    "version": 3
   },
   "file_extension": ".py",
   "mimetype": "text/x-python",
   "name": "python",
   "nbconvert_exporter": "python",
   "pygments_lexer": "ipython3",
   "version": "3.12.9"
  }
 },
 "nbformat": 4,
 "nbformat_minor": 5
}
