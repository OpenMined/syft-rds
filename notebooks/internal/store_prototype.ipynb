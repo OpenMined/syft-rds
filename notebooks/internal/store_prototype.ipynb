{
 "cells": [
  {
   "cell_type": "code",
   "execution_count": null,
   "metadata": {},
   "outputs": [],
   "source": [
    "from syft_core.url import SyftBoxURL\n",
    "from syft_rds.specs import DatasetSpec\n",
    "from syft_rds.store import RDSStore"
   ]
  },
  {
   "cell_type": "code",
   "execution_count": null,
   "metadata": {},
   "outputs": [],
   "source": [
    "dataset_store = RDSStore(spec=DatasetSpec)"
   ]
  },
  {
   "cell_type": "code",
   "execution_count": null,
   "metadata": {},
   "outputs": [],
   "source": [
    "# Create dataset\n",
    "dataset = DatasetSpec(\n",
    "    name=\"mnist\",\n",
    "    description=\"MNIST dataset\",\n",
    "    data=SyftBoxURL(\"syft://rasswanth@openmined.org/public/datasets/mock.csv\"),\n",
    "    mock=SyftBoxURL(\"syft://rasswanth@openmined.org/private/datasets/private.csv\"),\n",
    "    tags=[\"dataset\", \"mnist\", \"tag1\"],\n",
    ")\n",
    "created_id = dataset_store.create(dataset)\n",
    "print(created_id)"
   ]
  },
  {
   "cell_type": "code",
   "execution_count": null,
   "metadata": {},
   "outputs": [],
   "source": [
    "def read_from_system(dataset_id):\n",
    "    \"\"\"Read dataset yaml file from the system.\"\"\"\n",
    "    created_path = dataset_store._get_record_path(dataset_id)\n",
    "    assert created_path.exists()\n",
    "    print(f\"File path: {created_path}\", \"\\nContent:\")\n",
    "    content = created_path.read_text()\n",
    "    print(\"  \" + \"\\n  \".join(content.split(\"\\n\")))\n",
    "\n",
    "\n",
    "read_from_system(created_id)"
   ]
  },
  {
   "cell_type": "code",
   "execution_count": null,
   "metadata": {},
   "outputs": [],
   "source": [
    "# Read dataset\n",
    "read_dataset = dataset_store.read(id=created_id)\n",
    "assert isinstance(read_dataset, DatasetSpec)\n",
    "print(read_dataset)"
   ]
  },
  {
   "cell_type": "code",
   "execution_count": null,
   "metadata": {},
   "outputs": [],
   "source": [
    "# Update dataset\n",
    "updated_dataset = dataset_store.update(\n",
    "    created_id,\n",
    "    DatasetSpec(\n",
    "        name=\"updated-mnist\",\n",
    "        description=\"Updated MNIST dataset\",\n",
    "        data=SyftBoxURL(\"syft://tauquir@openmined.org/public/datasets/mock.csv\"),\n",
    "        mock=SyftBoxURL(\"syft://tauquir@openmined.org/private/datasets/private.csv\"),\n",
    "        tags=[\"updated-tag1\", \"updated-tag2\"],\n",
    "    ),\n",
    ")\n",
    "print(f\"Updated dataset: {updated_dataset}\")"
   ]
  },
  {
   "cell_type": "code",
   "execution_count": null,
   "metadata": {},
   "outputs": [],
   "source": [
    "assert updated_dataset.id == created_id\n",
    "read_from_system(updated_dataset.id)"
   ]
  },
  {
   "cell_type": "code",
   "execution_count": null,
   "metadata": {},
   "outputs": [],
   "source": [
    "# Query datasets\n",
    "results = dataset_store.query(name=\"updated-mnist\")\n",
    "assert len(results) > 0\n",
    "print(f\"Query results({len(results)}):\")\n",
    "for result in results:\n",
    "    print(f\"    {result}\")"
   ]
  },
  {
   "cell_type": "code",
   "execution_count": null,
   "metadata": {},
   "outputs": [],
   "source": [
    "# Search datasets\n",
    "search_results = dataset_store.search(\"mnist\", [\"name\", \"description\"])\n",
    "assert len(results) > 0\n",
    "print(f\"Search results({len(search_results)}):\")\n",
    "for result in search_results:\n",
    "    print(f\"    {result}\")"
   ]
  },
  {
   "cell_type": "code",
   "execution_count": null,
   "metadata": {},
   "outputs": [],
   "source": [
    "# Delete dataset\n",
    "deleted = dataset_store.delete(created_id)\n",
    "print(f\"Deleted dataset: {deleted}\")"
   ]
  }
 ],
 "metadata": {
  "kernelspec": {
   "display_name": ".venv",
   "language": "python",
   "name": "python3"
  },
  "language_info": {
   "codemirror_mode": {
    "name": "ipython",
    "version": 3
   },
   "file_extension": ".py",
   "mimetype": "text/x-python",
   "name": "python",
   "nbconvert_exporter": "python",
   "pygments_lexer": "ipython3",
   "version": "3.13.0"
  }
 },
 "nbformat": 4,
 "nbformat_minor": 2
}
