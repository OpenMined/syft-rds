{
 "cells": [
  {
   "cell_type": "code",
   "execution_count": null,
   "id": "0",
   "metadata": {},
   "outputs": [],
   "source": [
    "import syft_rds as sy\n",
    "\n",
    "from syft_rds.orchestra import setup_rds_stack\n",
    "from syft_rds.models import JobCreate\n",
    "from uuid import uuid4"
   ]
  },
  {
   "cell_type": "code",
   "execution_count": null,
   "id": "1",
   "metadata": {},
   "outputs": [],
   "source": [
    "stack = setup_rds_stack(log_level=\"INFO\")\n",
    "\n",
    "do_client = stack.do_rds_client\n",
    "\n",
    "for i in range(10):\n",
    "    job_create = JobCreate(\n",
    "        name=f\"Job {i}\",\n",
    "        runtime=\"python3.9\",\n",
    "        user_code_id=uuid4(),\n",
    "        dataset_name=\"test\",\n",
    "    )\n",
    "    job = do_client.rpc.job.create(job_create)"
   ]
  },
  {
   "cell_type": "code",
   "execution_count": null,
   "id": "2",
   "metadata": {},
   "outputs": [],
   "source": [
    "%%timeit\n",
    "\n",
    "# Lookup by UID is fast\n",
    "do_client.job.get(uid=str(job.uid))"
   ]
  },
  {
   "cell_type": "code",
   "execution_count": null,
   "id": "3",
   "metadata": {},
   "outputs": [],
   "source": [
    "%%timeit\n",
    "\n",
    "# Any other query is a get_all internally\n",
    "# O(n)\n",
    "do_client.job.get(name=job.name)"
   ]
  },
  {
   "cell_type": "code",
   "execution_count": null,
   "id": "4",
   "metadata": {},
   "outputs": [],
   "source": [
    "%%timeit\n",
    "\n",
    "# First 5 jobs, default sort order is created_at, desc\n",
    "jobs = do_client.job.get_all(\n",
    "    status=\"pending_code_review\",\n",
    "    limit=5,\n",
    "    order_by=\"name\",\n",
    "    sort_order=\"asc\",\n",
    ")"
   ]
  },
  {
   "cell_type": "code",
   "execution_count": null,
   "id": "5",
   "metadata": {},
   "outputs": [],
   "source": [
    "# First 5 jobs, default sort order is created_at, desc\n",
    "jobs = do_client.dataset.get_all()\n",
    "\n",
    "type(jobs)"
   ]
  },
  {
   "cell_type": "code",
   "execution_count": null,
   "id": "6",
   "metadata": {},
   "outputs": [],
   "source": [
    "sy.display({job.name: job for job in jobs})"
   ]
  },
  {
   "cell_type": "code",
   "execution_count": null,
   "id": "7",
   "metadata": {},
   "outputs": [],
   "source": []
  }
 ],
 "metadata": {
  "kernelspec": {
   "display_name": "Python 3 (ipykernel)",
   "language": "python",
   "name": "python3"
  },
  "language_info": {
   "codemirror_mode": {
    "name": "ipython",
    "version": 3
   },
   "file_extension": ".py",
   "mimetype": "text/x-python",
   "name": "python",
   "nbconvert_exporter": "python",
   "pygments_lexer": "ipython3",
   "version": "3.12.6"
  }
 },
 "nbformat": 4,
 "nbformat_minor": 5
}
