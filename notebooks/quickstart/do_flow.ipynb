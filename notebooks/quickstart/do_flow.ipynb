{
 "cells": [
  {
   "cell_type": "code",
   "execution_count": null,
   "id": "0",
   "metadata": {},
   "outputs": [],
   "source": [
    "import os\n",
    "from syft_core.config import CONFIG_PATH_ENV\n",
    "import syft_rds as sy"
   ]
  },
  {
   "cell_type": "markdown",
   "id": "1",
   "metadata": {},
   "source": [
    "# Setup "
   ]
  },
  {
   "cell_type": "code",
   "execution_count": null,
   "id": "2",
   "metadata": {},
   "outputs": [],
   "source": [
    "# NOTE normally this is all set for users, they can skip to the next cell\n",
    "# Because we are running multiple isolated clients, we need to make sure syftbox gets the right config path\n",
    "\n",
    "DATA_OWNER = \"data_owner@openmined.org\"\n",
    "DATA_SCIENTIST = \"data_scientist@openmined.org\"\n",
    "\n",
    "CLIENTS_PATH = sy.RDS_REPO_PATH / \"syft-rds\" / \".clients\"\n",
    "syftbox_config_path = CLIENTS_PATH / DATA_OWNER / \"config.json\"\n",
    "\n",
    "assert syftbox_config_path.exists()\n",
    "\n",
    "os.environ[CONFIG_PATH_ENV] = syftbox_config_path.as_posix()"
   ]
  },
  {
   "cell_type": "markdown",
   "id": "3",
   "metadata": {},
   "source": [
    "## Connect"
   ]
  },
  {
   "cell_type": "code",
   "execution_count": null,
   "id": "4",
   "metadata": {},
   "outputs": [],
   "source": [
    "# Both the data scientist and data owner are running an RDS app.\n",
    "# In this notebook, we'll only connect to the RDS app from the data_owner\n",
    "\n",
    "sy.discover_rds_apps()"
   ]
  },
  {
   "cell_type": "code",
   "execution_count": null,
   "id": "5",
   "metadata": {},
   "outputs": [],
   "source": [
    "do_client = sy.init_session(host=DATA_OWNER)"
   ]
  },
  {
   "cell_type": "code",
   "execution_count": null,
   "id": "6",
   "metadata": {},
   "outputs": [],
   "source": [
    "# To check if we're connected, we call the health endpoint over RPC\n",
    "# NOTE this is almost instant, because the server is running on this datasite\n",
    "do_client.rpc.health()"
   ]
  },
  {
   "cell_type": "markdown",
   "id": "7",
   "metadata": {},
   "source": [
    "# Data owner creates a dataset\n",
    "\n",
    "Prepare a small wine quality dataset from the UCI archive<br>\n",
    "https://archive.ics.uci.edu/dataset/186/wine+quality"
   ]
  },
  {
   "cell_type": "code",
   "execution_count": null,
   "id": "8",
   "metadata": {},
   "outputs": [],
   "source": [
    "from pathlib import Path\n",
    "import urllib.request\n",
    "import os\n",
    "import random\n",
    "\n",
    "dataset_name = \"red-wine-quality\"\n",
    "url = \"https://archive.ics.uci.edu/ml/machine-learning-databases/wine-quality/winequality-red.csv\"\n",
    "\n",
    "# Create paths\n",
    "CWD = Path.cwd()\n",
    "dataset_dir = CWD / \"data\" / dataset_name\n",
    "private_dir = dataset_dir / \"private\"\n",
    "mock_dir = dataset_dir / \"mock\"\n",
    "markdown_path = dataset_dir / \"description.md\"\n",
    "\n",
    "readme = \"\"\"\n",
    "# Red wine quality dataset\n",
    "\n",
    "## About\n",
    "The two datasets are related to red and white variants of the Portuguese \"Vinho Verde\" wine. \n",
    "For more details, consult: http://www.vinhoverde.pt/en/ or the reference [Cortez et al., 2009].\n",
    "Due to privacy and logistic issues, only physicochemical (inputs) and sensory (the output) \n",
    "variables are available (e.g. there is no data about grape types, wine brand, wine selling price).\n",
    "\n",
    "These datasets can be viewed as classification or regression tasks. The classes are ordered and \n",
    "not balanced (e.g. there are many more normal wines than excellent or poor ones). Outlier detection \n",
    "algorithms could be used to detect the few excellent or poor wines.\n",
    "\n",
    "## Source\n",
    "https://archive.ics.uci.edu/dataset/186/wine+quality\n",
    "\"\"\"\n",
    "print(f\"Downloading {dataset_name} dataset to {dataset_dir.as_posix()}\")\n",
    "\n",
    "# Download the dataset to a local folder (no-syftbox yet)\n",
    "if dataset_dir.exists():\n",
    "    print(\"Dataset already exists, skipping download\")\n",
    "else:\n",
    "    # Create directories\n",
    "    private_dir.mkdir(parents=True, exist_ok=True)\n",
    "    mock_dir.mkdir(parents=True, exist_ok=True)\n",
    "\n",
    "    # Download files in memory\n",
    "    with urllib.request.urlopen(url) as response:\n",
    "        data = response.read().decode(\"utf-8\").splitlines()\n",
    "    header = data[0]\n",
    "    data_rows = data[1:]\n",
    "\n",
    "    # Split 20/80 into mock/private\n",
    "    random.shuffle(data_rows)\n",
    "    split_idx = int(len(data_rows) * 0.2)\n",
    "    mock_data = data_rows[:split_idx]\n",
    "    private_data = data_rows[split_idx:]\n",
    "    mock_data = [header] + mock_data\n",
    "    private_data = [header] + private_data\n",
    "\n",
    "    with open(private_dir / \"data.csv\", \"w\") as f:\n",
    "        f.write(\"\\n\".join(private_data))\n",
    "    with open(mock_dir / \"data.csv\", \"w\") as f:\n",
    "        f.write(\"\\n\".join(mock_data))\n",
    "    with open(markdown_path, \"w\") as f:\n",
    "        f.write(readme)\n",
    "\n",
    "    print(\n",
    "        f\"Dataset {dataset_name} downloaded and split into mock ({len(mock_data)} rows) and private ({len(private_data)} rows)\"\n",
    "    )"
   ]
  },
  {
   "cell_type": "code",
   "execution_count": null,
   "id": "9",
   "metadata": {},
   "outputs": [],
   "source": [
    "# Add dataset to syftbox\n",
    "\n",
    "dataset = do_client.dataset.create(\n",
    "    name=dataset_name,  # MUST BE UNIQUE. Throw Exception if already exist.\n",
    "    path=private_dir,  # MUST EXIST\n",
    "    mock_path=mock_dir,\n",
    "    summary=\"A dataset on red wine quality, downloaded from the UCI Machine Learning Repository\",\n",
    "    description_path=markdown_path,\n",
    ")"
   ]
  },
  {
   "cell_type": "code",
   "execution_count": null,
   "id": "10",
   "metadata": {},
   "outputs": [],
   "source": [
    "dataset.describe()"
   ]
  },
  {
   "cell_type": "markdown",
   "id": "11",
   "metadata": {},
   "source": [
    "# Data owner reviews incoming jobs\n",
    "\n",
    "Before executing the cells below, switch to ds_flow.ipynb to submit a job on the wine quality dataset"
   ]
  },
  {
   "cell_type": "code",
   "execution_count": null,
   "id": "12",
   "metadata": {},
   "outputs": [],
   "source": [
    "jobs = do_client.job.get_all(status=\"pending_code_review\")\n",
    "jobs"
   ]
  },
  {
   "cell_type": "code",
   "execution_count": null,
   "id": "13",
   "metadata": {},
   "outputs": [],
   "source": [
    "job = jobs[0]\n",
    "\n",
    "# Same as job.user_code.describe()\n",
    "job.show_user_code()"
   ]
  },
  {
   "cell_type": "markdown",
   "id": "14",
   "metadata": {},
   "source": [
    "# DO executes job and shares the result"
   ]
  },
  {
   "cell_type": "code",
   "execution_count": null,
   "id": "15",
   "metadata": {},
   "outputs": [],
   "source": [
    "do_client.run_private(job)"
   ]
  },
  {
   "cell_type": "code",
   "execution_count": null,
   "id": "16",
   "metadata": {},
   "outputs": [],
   "source": [
    "_, job = do_client.job.share_results(job)"
   ]
  },
  {
   "cell_type": "code",
   "execution_count": null,
   "id": "17",
   "metadata": {},
   "outputs": [],
   "source": [
    "# The job results are shared and now visible in the output_path\n",
    "job.describe()"
   ]
  },
  {
   "cell_type": "code",
   "execution_count": null,
   "id": "18",
   "metadata": {},
   "outputs": [],
   "source": []
  }
 ],
 "metadata": {
  "kernelspec": {
   "display_name": "Python 3 (ipykernel)",
   "language": "python",
   "name": "python3"
  },
  "language_info": {
   "codemirror_mode": {
    "name": "ipython",
    "version": 3
   },
   "file_extension": ".py",
   "mimetype": "text/x-python",
   "name": "python",
   "nbconvert_exporter": "python",
   "pygments_lexer": "ipython3",
   "version": "3.13.1"
  }
 },
 "nbformat": 4,
 "nbformat_minor": 5
}
