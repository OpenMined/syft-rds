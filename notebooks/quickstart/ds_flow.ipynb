{
 "cells": [
  {
   "cell_type": "code",
   "execution_count": null,
   "id": "0",
   "metadata": {},
   "outputs": [],
   "source": [
    "import os\n",
    "from syft_core.config import CONFIG_PATH_ENV\n",
    "import syft_rds as sy\n",
    "from pathlib import Path"
   ]
  },
  {
   "cell_type": "code",
   "execution_count": null,
   "id": "1",
   "metadata": {},
   "outputs": [],
   "source": [
    "# NOTE normally this is all set for users, they can skip to the next cell\n",
    "# Because we are running multiple isolated clients, we need to make sure syftbox gets the right config path\n",
    "\n",
    "DATA_OWNER = \"data_owner@openmined.org\"\n",
    "DATA_SCIENTIST = \"data_scientist@openmined.org\"\n",
    "CLIENTS_PATH = sy.RDS_REPO_PATH / \"syft-rds\" / \".clients\"\n",
    "syftbox_config_path = CLIENTS_PATH / DATA_SCIENTIST / \"config.json\"\n",
    "\n",
    "assert syftbox_config_path.exists()\n",
    "\n",
    "os.environ[CONFIG_PATH_ENV] = syftbox_config_path.as_posix()"
   ]
  },
  {
   "cell_type": "code",
   "execution_count": null,
   "id": "2",
   "metadata": {},
   "outputs": [],
   "source": [
    "# Both the data scientist and data owner are running an RDS app.\n",
    "# In this notebook, we'll only connect to the RDS app from the data_owner\n",
    "\n",
    "sy.discover_rds_apps()"
   ]
  },
  {
   "cell_type": "code",
   "execution_count": null,
   "id": "3",
   "metadata": {},
   "outputs": [],
   "source": [
    "ds_client = sy.init_session(host=DATA_OWNER)"
   ]
  },
  {
   "cell_type": "code",
   "execution_count": null,
   "id": "4",
   "metadata": {},
   "outputs": [],
   "source": [
    "# To check if we're connected, we call the health endpoint over RPC\n",
    "# NOTE this takes about 5 seconds on a local stack\n",
    "\n",
    "# Under the hood:\n",
    "# - DS makes request file\n",
    "# - sync server syncs to DO\n",
    "# - DO makes response file\n",
    "# - sync server syncs to DS\n",
    "ds_client.rpc.health()"
   ]
  },
  {
   "cell_type": "markdown",
   "id": "5",
   "metadata": {},
   "source": [
    "# DS investigates datasets"
   ]
  },
  {
   "cell_type": "code",
   "execution_count": null,
   "id": "6",
   "metadata": {},
   "outputs": [],
   "source": [
    "ds_client.datasets"
   ]
  },
  {
   "cell_type": "code",
   "execution_count": null,
   "id": "7",
   "metadata": {},
   "outputs": [],
   "source": [
    "dataset = ds_client.datasets[0]"
   ]
  },
  {
   "cell_type": "markdown",
   "id": "8",
   "metadata": {},
   "source": [
    "### Experiment on mock data"
   ]
  },
  {
   "cell_type": "code",
   "execution_count": null,
   "id": "9",
   "metadata": {},
   "outputs": [],
   "source": [
    "import pandas as pd\n",
    "\n",
    "data_file = dataset.mock_path / \"data.csv\"\n",
    "print(f\"Loading data from {data_file.name}...\")\n",
    "df = pd.read_csv(data_file, sep=\";\")\n",
    "\n",
    "num_rows = len(df)\n",
    "print(f\"Calculating feature means for {num_rows} rows...\")\n",
    "df.mean(numeric_only=True)"
   ]
  },
  {
   "cell_type": "markdown",
   "id": "10",
   "metadata": {},
   "source": [
    "# DS submits a job on private data\n",
    "\n",
    "Create a `calculate_mean.py`, anywhere on your maching. The below cell uses a `%%writefile` jupyter magic to make this a bit easier"
   ]
  },
  {
   "cell_type": "code",
   "execution_count": null,
   "id": "11",
   "metadata": {},
   "outputs": [],
   "source": [
    "CWD = Path.cwd()\n",
    "my_file = CWD / \"data\" / \"calculate_mean.py\""
   ]
  },
  {
   "cell_type": "code",
   "execution_count": null,
   "id": "12",
   "metadata": {},
   "outputs": [],
   "source": [
    "%%writefile {my_file}\n",
    "\n",
    "import os\n",
    "import pandas as pd\n",
    "from pathlib import Path\n",
    "\n",
    "# Standard RDS environment variables, the RDS runner will fill these in.\n",
    "DATA_DIR = os.environ[\"DATA_DIR\"]\n",
    "OUTPUT_DIR = os.environ[\"OUTPUT_DIR\"]\n",
    "\n",
    "# Load data from DATA_DIR\n",
    "# DATA_DIR will contain the real data, and has the same structure as the mock data.\n",
    "data_file = Path(DATA_DIR) / \"data.csv\"\n",
    "print(f\"Loading data from {data_file.name}...\")\n",
    "df = pd.read_csv(data_file, sep=';')\n",
    "\n",
    "# Calculate mean\n",
    "num_rows = len(df)\n",
    "print(f\"Calculating feature means for {num_rows} rows...\")\n",
    "result = df.mean(numeric_only=True)\n",
    "\n",
    "# Save result to OUTPUT_DIR\n",
    "result.to_csv(Path(OUTPUT_DIR) / \"output.csv\")"
   ]
  },
  {
   "cell_type": "code",
   "execution_count": null,
   "id": "13",
   "metadata": {},
   "outputs": [],
   "source": [
    "job = ds_client.jobs.submit(user_code_path=my_file, dataset_name=dataset.name)\n",
    "job.describe()"
   ]
  },
  {
   "cell_type": "markdown",
   "id": "14",
   "metadata": {},
   "source": [
    "# DS views the results\n",
    "\n",
    "Before executing the cells below, switch to do_flow.ipynb to review, execute, and publish results"
   ]
  },
  {
   "cell_type": "code",
   "execution_count": null,
   "id": "15",
   "metadata": {},
   "outputs": [],
   "source": [
    "job.refresh()\n",
    "job.describe()"
   ]
  },
  {
   "cell_type": "code",
   "execution_count": null,
   "id": "16",
   "metadata": {},
   "outputs": [],
   "source": [
    "# View outputs\n",
    "pd.read_csv(job.output_path / \"output\" / \"output.csv\")"
   ]
  },
  {
   "cell_type": "code",
   "execution_count": null,
   "id": "17",
   "metadata": {},
   "outputs": [],
   "source": [
    "# View logs\n",
    "print((job.output_path / \"logs\" / \"stdout.log\").read_text())"
   ]
  },
  {
   "cell_type": "code",
   "execution_count": null,
   "id": "18",
   "metadata": {},
   "outputs": [],
   "source": []
  },
  {
   "cell_type": "code",
   "execution_count": null,
   "id": "19",
   "metadata": {},
   "outputs": [],
   "source": []
  }
 ],
 "metadata": {
  "kernelspec": {
   "display_name": "Python 3 (ipykernel)",
   "language": "python",
   "name": "python3"
  },
  "language_info": {
   "codemirror_mode": {
    "name": "ipython",
    "version": 3
   },
   "file_extension": ".py",
   "mimetype": "text/x-python",
   "name": "python",
   "nbconvert_exporter": "python",
   "pygments_lexer": "ipython3",
   "version": "3.13.1"
  }
 },
 "nbformat": 4,
 "nbformat_minor": 5
}
