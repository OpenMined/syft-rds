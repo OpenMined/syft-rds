{
 "cells": [
  {
   "cell_type": "code",
   "execution_count": null,
   "id": "0",
   "metadata": {
    "metadata": {}
   },
   "outputs": [],
   "source": [
    "from syft_rds.orchestra import setup_rds_stack\n",
    "from syft_rds import RDS_NOTEBOOKS_PATH\n",
    "from pathlib import Path"
   ]
  },
  {
   "cell_type": "code",
   "execution_count": null,
   "id": "1",
   "metadata": {
    "metadata": {}
   },
   "outputs": [],
   "source": [
    "key = \"custom_functions_notebook\"\n",
    "stack = setup_rds_stack(key=key, log_level=\"INFO\", reset=True)"
   ]
  },
  {
   "cell_type": "code",
   "execution_count": null,
   "id": "2",
   "metadata": {
    "metadata": {}
   },
   "outputs": [],
   "source": [
    "do_client = stack.do_rds_client\n",
    "ds_client = stack.ds_rds_client"
   ]
  },
  {
   "cell_type": "markdown",
   "id": "3",
   "metadata": {
    "metadata": {}
   },
   "source": [
    "# Create a dataset as DO"
   ]
  },
  {
   "cell_type": "code",
   "execution_count": null,
   "id": "4",
   "metadata": {},
   "outputs": [],
   "source": [
    "CWD = RDS_NOTEBOOKS_PATH / \"quickstart\""
   ]
  },
  {
   "cell_type": "code",
   "execution_count": null,
   "id": "5",
   "metadata": {},
   "outputs": [],
   "source": [
    "dataset_name = \"sqlite-chat-logs\"\n",
    "private_dir = CWD / \"data\" / dataset_name / \"private\"\n",
    "mock_dir = CWD / \"data\" / dataset_name / \"mock\"\n",
    "markdown_path = CWD / \"data\" / dataset_name / \"description.md\"\n",
    "\n",
    "private_dir.mkdir(parents=True, exist_ok=True)\n",
    "mock_dir.mkdir(parents=True, exist_ok=True)\n",
    "\n",
    "with open(markdown_path, \"w\") as f:\n",
    "    f.write(\"# SQLite database\")\n",
    "\n",
    "print(f\"Created directories: {private_dir}, {mock_dir}\")"
   ]
  },
  {
   "cell_type": "markdown",
   "id": "6",
   "metadata": {},
   "source": [
    "## Create a private and mock sqlite database"
   ]
  },
  {
   "cell_type": "code",
   "execution_count": null,
   "id": "7",
   "metadata": {},
   "outputs": [],
   "source": [
    "import sqlite3\n",
    "import json\n",
    "\n",
    "\n",
    "def create_chat_log_db(base_dir, messages: list[dict]):\n",
    "    \"\"\"Create a simple SQLite database with a chat log table.\"\"\"\n",
    "    base_dir = Path(base_dir)\n",
    "    base_dir.mkdir(parents=True, exist_ok=True)\n",
    "\n",
    "    # Write a settings.json, so the user knows how to connect to the database\n",
    "    config_path = base_dir / \"settings.json\"\n",
    "    db_config = {\n",
    "        \"database\": \"chat_logs.db\",\n",
    "    }\n",
    "    config_path.write_text(json.dumps(db_config, indent=2))\n",
    "\n",
    "    # Create SQLite DB with a simple user chat log table and one row\n",
    "    db_path = base_dir / \"chat_logs.db\"\n",
    "    if db_path.exists():\n",
    "        db_path.unlink()\n",
    "    conn = sqlite3.connect(db_path)\n",
    "    cur = conn.cursor()\n",
    "    cur.execute(\"\"\"\n",
    "        CREATE TABLE IF NOT EXISTS chat_log (\n",
    "            id INTEGER PRIMARY KEY AUTOINCREMENT,\n",
    "            username TEXT NOT NULL,\n",
    "            message TEXT NOT NULL\n",
    "        )\n",
    "    \"\"\")\n",
    "    for message in messages:\n",
    "        cur.execute(\n",
    "            \"INSERT INTO chat_log (username, message) VALUES (?, ?)\",\n",
    "            (message[\"username\"], message[\"message\"]),\n",
    "        )\n",
    "    conn.commit()\n",
    "    conn.close()\n",
    "\n",
    "    print(f\"Database created at {db_path}\")"
   ]
  },
  {
   "cell_type": "code",
   "execution_count": null,
   "id": "8",
   "metadata": {},
   "outputs": [],
   "source": [
    "mock_messages = [\n",
    "    {\"username\": \"alice\", \"message\": \"Hello, this is a test message!\"},\n",
    "    {\"username\": \"bob\", \"message\": \"Hi Alice, message received!\"},\n",
    "]\n",
    "\n",
    "private_messages = [\n",
    "    {\"username\": \"alice\", \"message\": \"Let's keep this conversation private.\"},\n",
    "    {\"username\": \"bob\", \"message\": \"Sure, I won't share it with anyone.\"},\n",
    "]\n",
    "\n",
    "create_chat_log_db(mock_dir, mock_messages)\n",
    "create_chat_log_db(private_dir, private_messages)"
   ]
  },
  {
   "cell_type": "code",
   "execution_count": null,
   "id": "9",
   "metadata": {
    "metadata": {}
   },
   "outputs": [],
   "source": [
    "try:\n",
    "    data = do_client.dataset.create(\n",
    "        name=dataset_name,\n",
    "        path=private_dir,\n",
    "        mock_path=mock_dir,\n",
    "        summary=\"sqlite dataset\",\n",
    "        description_path=markdown_path,\n",
    "    )\n",
    "except Exception as e:\n",
    "    if \"already exists\" in str(e):\n",
    "        print(e)\n",
    "    else:\n",
    "        raise e"
   ]
  },
  {
   "cell_type": "code",
   "execution_count": null,
   "id": "10",
   "metadata": {
    "metadata": {}
   },
   "outputs": [],
   "source": [
    "do_client.dataset.get(name=dataset_name).describe()"
   ]
  },
  {
   "cell_type": "markdown",
   "id": "11",
   "metadata": {},
   "source": [
    "# Submit Custom function as DO"
   ]
  },
  {
   "cell_type": "code",
   "execution_count": null,
   "id": "12",
   "metadata": {},
   "outputs": [],
   "source": [
    "custom_function_dir = CWD / \"data\" / \"custom_function\"\n",
    "custom_function_dir.mkdir(parents=True, exist_ok=True)\n",
    "custom_function_path = custom_function_dir / \"sqlite_custom_function.py\"\n",
    "custom_function_readme_path = custom_function_dir / \"README.md\"\n",
    "\n",
    "# Note: %%writefile is a magic command to write the content of the cell to a file.\n",
    "\n",
    "# In the following cell, we create a custom function that loads a query from a file,\n",
    "# executes it against a SQLite database and writes the result to a file.\n",
    "# The %%writefile command then writes the cell to custom_function_path."
   ]
  },
  {
   "cell_type": "code",
   "execution_count": null,
   "id": "13",
   "metadata": {},
   "outputs": [],
   "source": [
    "%%writefile $custom_function_path\n",
    "\n",
    "import os\n",
    "import sqlite3\n",
    "from pathlib import Path\n",
    "import json\n",
    "\n",
    "DATA_DIR = Path(os.environ[\"DATA_DIR\"])\n",
    "CODE_DIR = Path(os.environ[\"CODE_DIR\"])\n",
    "OUTPUT_DIR = Path(os.environ[\"OUTPUT_DIR\"])\n",
    "\n",
    "def execute_user_query(code_dir: Path, data_dir: Path, output_dir: Path):\n",
    "    \"\"\"\n",
    "    - Load a DB from data_dir\n",
    "    - Load user-defined query from code_dir\n",
    "    - Execute the query on the DB\n",
    "    - Save the results to output_dir\n",
    "    \"\"\"\n",
    "    with open(data_dir / \"settings.json\", \"r\") as f:\n",
    "        db_config = json.load(f)\n",
    "        db_path = data_dir / db_config[\"database\"]\n",
    "\n",
    "    with open(code_dir / \"user_params.json\", \"r\") as f:\n",
    "        user_params = json.load(f)\n",
    "        db_query = user_params[\"db_query\"]\n",
    "\n",
    "    conn = sqlite3.connect(db_path)\n",
    "    cur = conn.cursor()\n",
    "    cur.execute(db_query)\n",
    "    rows = cur.fetchall()\n",
    "\n",
    "    with open(output_dir / \"results.json\", \"w\") as f:\n",
    "        json.dump(rows, f, indent=2)\n",
    "\n",
    "execute_user_query(CODE_DIR, DATA_DIR, OUTPUT_DIR)"
   ]
  },
  {
   "cell_type": "code",
   "execution_count": null,
   "id": "14",
   "metadata": {},
   "outputs": [],
   "source": [
    "# Create a README\n",
    "\n",
    "readme = \"\"\"\n",
    "# SQLite Custom Function\n",
    "This function executes a user-defined query on an SQLite database.\n",
    "\n",
    "## Usage\n",
    "Create a `user_params.json`, and submit this as a Job with this custom function.\n",
    "User params should include a `db_query` with the SQL query you want to execute:\n",
    "```json\n",
    "{\n",
    "    \"db_query\": \"SELECT * FROM chat_log\"\n",
    "}\n",
    "```\n",
    "\n",
    "Alternatively, you can submit a Job directly to this function:\n",
    "```\n",
    "dataset = client.dataset.get(name=\"sqlite-chat-logs\")\n",
    "custom_function = client.custom_function.get(name=\"execute_user_query\")\n",
    "job = custom_function.submit_job(dataset_name=dataset.name, db_query=\"SELECT * FROM chat_log\")\n",
    "```\n",
    "\n",
    "This will create `user_params.json` automatically and submit the job for you.\n",
    "\"\"\"\n",
    "\n",
    "custom_function_readme_path.write_text(readme.strip())"
   ]
  },
  {
   "cell_type": "code",
   "execution_count": null,
   "id": "15",
   "metadata": {},
   "outputs": [],
   "source": [
    "do_client.custom_function.submit(\n",
    "    name=\"execute_user_query\",\n",
    "    code_path=custom_function_path,\n",
    "    readme_path=custom_function_readme_path,\n",
    ")"
   ]
  },
  {
   "cell_type": "markdown",
   "id": "16",
   "metadata": {
    "metadata": {}
   },
   "source": [
    "# Use dataset as DS"
   ]
  },
  {
   "cell_type": "code",
   "execution_count": null,
   "id": "17",
   "metadata": {
    "metadata": {}
   },
   "outputs": [],
   "source": [
    "ds_client.custom_function.get_all()"
   ]
  },
  {
   "cell_type": "code",
   "execution_count": null,
   "id": "18",
   "metadata": {
    "metadata": {}
   },
   "outputs": [],
   "source": [
    "# User investigates content of the custom function, and submits a query for execution\n",
    "\n",
    "custom_func = ds_client.custom_function.get(name=\"execute_user_query\")\n",
    "custom_func.describe()"
   ]
  },
  {
   "cell_type": "code",
   "execution_count": null,
   "id": "19",
   "metadata": {},
   "outputs": [],
   "source": [
    "job = ds_client.job.submit_with_params(\n",
    "    dataset_name=dataset_name,\n",
    "    custom_function=custom_func,\n",
    "    db_query=\"SELECT * FROM chat_log WHERE username = 'alice'\",\n",
    ")\n",
    "\n",
    "# Alternatively, this is equivalent to the above:\n",
    "# job = custom_func.submit_job(\n",
    "#     dataset_name=dataset_name,\n",
    "#     db_query=\"SELECT * FROM chat_log WHERE username = 'alice'\",\n",
    "# )"
   ]
  },
  {
   "cell_type": "markdown",
   "id": "20",
   "metadata": {},
   "source": [
    "# DO reviews"
   ]
  },
  {
   "cell_type": "code",
   "execution_count": null,
   "id": "21",
   "metadata": {},
   "outputs": [],
   "source": [
    "jobs = do_client.job.get_all(status=\"pending_code_review\")\n",
    "jobs"
   ]
  },
  {
   "cell_type": "code",
   "execution_count": null,
   "id": "22",
   "metadata": {},
   "outputs": [],
   "source": [
    "job = jobs[-1]\n",
    "\n",
    "job.describe()"
   ]
  },
  {
   "cell_type": "code",
   "execution_count": null,
   "id": "23",
   "metadata": {},
   "outputs": [],
   "source": [
    "job.user_code.describe()"
   ]
  },
  {
   "cell_type": "code",
   "execution_count": null,
   "id": "24",
   "metadata": {},
   "outputs": [],
   "source": [
    "res_job = do_client.run_private(job)"
   ]
  },
  {
   "cell_type": "code",
   "execution_count": null,
   "id": "25",
   "metadata": {},
   "outputs": [],
   "source": [
    "# Review\n",
    "# NOTE review_results is only available for the data owner, and will look at the Job outputs that are not yet shared to SyftBox\n",
    "results_to_review = do_client.job.review_results(job)\n",
    "\n",
    "results_to_review.describe()\n",
    "\n",
    "print(\"Loading all output files for job {job.id}...\")\n",
    "for output_name, output in results_to_review.outputs.items():\n",
    "    print(f\"{output_name}: {output}\")"
   ]
  },
  {
   "cell_type": "code",
   "execution_count": null,
   "id": "26",
   "metadata": {},
   "outputs": [],
   "source": [
    "# Share\n",
    "do_client.job.share_results(res_job)"
   ]
  },
  {
   "cell_type": "markdown",
   "id": "27",
   "metadata": {},
   "source": [
    "# DS views the results"
   ]
  },
  {
   "cell_type": "code",
   "execution_count": null,
   "id": "28",
   "metadata": {},
   "outputs": [],
   "source": [
    "job = ds_client.job.get_all()[-1]"
   ]
  },
  {
   "cell_type": "code",
   "execution_count": null,
   "id": "29",
   "metadata": {},
   "outputs": [],
   "source": [
    "# DS can see files in the output path\n",
    "job.describe()"
   ]
  },
  {
   "cell_type": "code",
   "execution_count": null,
   "id": "30",
   "metadata": {},
   "outputs": [],
   "source": [
    "job_results = ds_client.job.get_results(job)\n",
    "\n",
    "job_results.describe()\n",
    "for output_name, output in job_results.outputs.items():\n",
    "    print(f\"{output_name}: {output}\")"
   ]
  },
  {
   "cell_type": "markdown",
   "id": "31",
   "metadata": {},
   "source": [
    "## Clean up"
   ]
  },
  {
   "cell_type": "code",
   "execution_count": null,
   "id": "32",
   "metadata": {},
   "outputs": [],
   "source": [
    "from syft_rds.orchestra import remove_rds_stack_dir\n",
    "\n",
    "stack.stop()\n",
    "remove_rds_stack_dir(key=key)"
   ]
  },
  {
   "cell_type": "code",
   "execution_count": null,
   "id": "33",
   "metadata": {},
   "outputs": [],
   "source": []
  }
 ],
 "metadata": {
  "kernelspec": {
   "display_name": ".venv",
   "language": "python",
   "name": "python3"
  },
  "language_info": {
   "codemirror_mode": {
    "name": "ipython",
    "version": 3
   },
   "file_extension": ".py",
   "mimetype": "text/x-python",
   "name": "python",
   "nbconvert_exporter": "python",
   "pygments_lexer": "ipython3",
   "version": "3.12.6"
  }
 },
 "nbformat": 4,
 "nbformat_minor": 5
}
