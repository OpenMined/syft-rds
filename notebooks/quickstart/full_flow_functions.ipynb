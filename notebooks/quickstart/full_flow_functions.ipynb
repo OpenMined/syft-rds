{
 "cells": [
  {
   "cell_type": "code",
   "execution_count": null,
   "id": "0",
   "metadata": {
    "metadata": {}
   },
   "outputs": [],
   "source": [
    "from syft_rds.orchestra import setup_rds_stack\n",
    "from syft_rds import RDS_NOTEBOOKS_PATH\n",
    "from syft_rds.syft_runtime.main import CodeRuntime"
   ]
  },
  {
   "cell_type": "code",
   "execution_count": null,
   "id": "1",
   "metadata": {
    "metadata": {}
   },
   "outputs": [],
   "source": [
    "stack = setup_rds_stack(log_level=\"INFO\")"
   ]
  },
  {
   "cell_type": "code",
   "execution_count": null,
   "id": "2",
   "metadata": {
    "metadata": {}
   },
   "outputs": [],
   "source": [
    "do_client = stack.do_rds_client\n",
    "ds_client = stack.ds_rds_client"
   ]
  },
  {
   "cell_type": "markdown",
   "id": "3",
   "metadata": {
    "metadata": {}
   },
   "source": [
    "# Create a custom runtime as DO"
   ]
  },
  {
   "cell_type": "code",
   "execution_count": null,
   "id": "4",
   "metadata": {
    "metadata": {}
   },
   "outputs": [],
   "source": [
    "CWD = RDS_NOTEBOOKS_PATH / \"quickstart\""
   ]
  },
  {
   "cell_type": "code",
   "execution_count": null,
   "id": "5",
   "metadata": {
    "metadata": {}
   },
   "outputs": [],
   "source": [
    "private_dir = CWD / \"data\" / \"custom-runtime-1\" / \"private\"\n",
    "mock_dir = CWD / \"data\" / \"custom-runtime-1\" / \"mock\"\n",
    "markdown_path = CWD / \"data\" / \"custom-runtime-1\" / \"description.md\"\n",
    "\n",
    "private_dir.mkdir(parents=True, exist_ok=True)\n",
    "mock_dir.mkdir(parents=True, exist_ok=True)\n",
    "\n",
    "\n",
    "private_script_path = private_dir / \"script.py\"\n",
    "mock_script_path = mock_dir / \"script.py\""
   ]
  },
  {
   "cell_type": "code",
   "execution_count": null,
   "id": "6",
   "metadata": {
    "metadata": {}
   },
   "outputs": [],
   "source": [
    "%%writefile {private_script_path}\n",
    "\n",
    "import os\n",
    "\n",
    "INPUT_FILE = os.environ[\"INPUT_FILE\"] # user input file\n",
    "OUTPUT_DIR = os.environ[\"OUTPUT_DIR\"] # job output directory\n",
    "\n",
    "\n",
    "SECRET_KEY = os.environ[\"SECRET_KEY\"] # secret key for some api\n",
    "\n",
    "def special_string_length(query: str):\n",
    "    return len(query + SECRET_KEY)\n",
    "\n",
    "with open(os.path.join(OUTPUT_DIR, \"output.txt\"), \"w\") as f:\n",
    "    res = special_string_length(\"Hello, world!\")\n",
    "    f.write(f\"Query result: {res}\")\n",
    "    print(f\"Query result: {res}\")\n"
   ]
  },
  {
   "cell_type": "code",
   "execution_count": null,
   "id": "7",
   "metadata": {},
   "outputs": [],
   "source": [
    "# python do_owner.py ds_code.jpg"
   ]
  },
  {
   "cell_type": "code",
   "execution_count": null,
   "id": "8",
   "metadata": {
    "metadata": {}
   },
   "outputs": [],
   "source": [
    "%%writefile {mock_script_path}\n",
    "\n",
    "import os\n",
    "\n",
    "INPUT_FILE = os.environ[\"INPUT_FILE\"]\n",
    "OUTPUT_DIR = os.environ[\"OUTPUT_DIR\"]\n",
    "SECRET_KEY = \"MOCK_KEY\"\n",
    "\n",
    "def special_string_length(query: str):\n",
    "    return len(query + SECRET_KEY)\n",
    "\n",
    "with open(os.path.join(OUTPUT_DIR, \"output.txt\"), \"w\") as f:\n",
    "    res = special_string_length(\"Hello, world!\")\n",
    "    f.write(f\"Query result: {res}\")\n",
    "    print(f\"Query result: {res}\")\n"
   ]
  },
  {
   "cell_type": "code",
   "execution_count": null,
   "id": "9",
   "metadata": {
    "metadata": {}
   },
   "outputs": [],
   "source": [
    "with open(markdown_path, \"w\") as f:\n",
    "    f.write(\"You input should be file with a single string\")"
   ]
  },
  {
   "cell_type": "code",
   "execution_count": null,
   "id": "10",
   "metadata": {
    "metadata": {}
   },
   "outputs": [],
   "source": [
    "data = do_client.dataset.create(\n",
    "    name=\"custom_runtime_dataset\",\n",
    "    path=private_dir,\n",
    "    mock_path=mock_dir,\n",
    "    summary=\"dummy data\",\n",
    "    description_path=markdown_path,\n",
    "    runtime=CodeRuntime(\n",
    "        cmd=[\n",
    "            \"python\",\n",
    "            private_script_path.as_posix(),\n",
    "        ],  # set the entrypoint for the runner\n",
    "        mount_dir=private_dir.as_posix(),  # make the folder available to the container\n",
    "    ),\n",
    ")"
   ]
  },
  {
   "cell_type": "code",
   "execution_count": null,
   "id": "11",
   "metadata": {
    "metadata": {}
   },
   "outputs": [],
   "source": [
    "# docker python -c my/local/path"
   ]
  },
  {
   "cell_type": "markdown",
   "id": "12",
   "metadata": {
    "metadata": {}
   },
   "source": [
    "# Use dataset as DS"
   ]
  },
  {
   "cell_type": "code",
   "execution_count": null,
   "id": "13",
   "metadata": {
    "metadata": {}
   },
   "outputs": [],
   "source": [
    "ds_client.datasets"
   ]
  },
  {
   "cell_type": "code",
   "execution_count": null,
   "id": "14",
   "metadata": {
    "metadata": {}
   },
   "outputs": [],
   "source": [
    "ds_client.dataset.get(name=\"custom_runtime_dataset\").get_mock_path()"
   ]
  },
  {
   "cell_type": "code",
   "execution_count": null,
   "id": "15",
   "metadata": {
    "metadata": {}
   },
   "outputs": [],
   "source": [
    "dataset = ds_client.dataset.get(name=\"custom_runtime_dataset\")\n",
    "dataset.describe()"
   ]
  },
  {
   "cell_type": "code",
   "execution_count": null,
   "id": "16",
   "metadata": {
    "metadata": {}
   },
   "outputs": [],
   "source": []
  },
  {
   "cell_type": "code",
   "execution_count": null,
   "id": "17",
   "metadata": {
    "metadata": {}
   },
   "outputs": [],
   "source": [
    "my_file = CWD / \"data\" / \"input.txt\""
   ]
  },
  {
   "cell_type": "code",
   "execution_count": null,
   "id": "18",
   "metadata": {
    "metadata": {}
   },
   "outputs": [],
   "source": [
    "%%writefile {my_file}\n",
    "\n",
    "My special string\n"
   ]
  },
  {
   "cell_type": "code",
   "execution_count": null,
   "id": "19",
   "metadata": {
    "metadata": {}
   },
   "outputs": [],
   "source": [
    "job = ds_client.jobs.submit(user_code_path=my_file, dataset_name=dataset.name)\n",
    "job"
   ]
  },
  {
   "cell_type": "code",
   "execution_count": null,
   "id": "20",
   "metadata": {
    "metadata": {}
   },
   "outputs": [],
   "source": [
    "job = do_client.jobs.get_all()[-1]\n",
    "job"
   ]
  },
  {
   "cell_type": "code",
   "execution_count": null,
   "id": "21",
   "metadata": {
    "metadata": {}
   },
   "outputs": [],
   "source": [
    "import os\n",
    "\n",
    "os.environ[\"SECRET_KEY\"] = \"__AA__\"  # Secret used in the private code\n",
    "res_job = do_client.run_private(job)"
   ]
  },
  {
   "cell_type": "code",
   "execution_count": null,
   "id": "22",
   "metadata": {
    "metadata": {}
   },
   "outputs": [],
   "source": [
    "job = ds_client.jobs.get_all()[-1]"
   ]
  },
  {
   "cell_type": "code",
   "execution_count": null,
   "id": "23",
   "metadata": {
    "metadata": {}
   },
   "outputs": [],
   "source": [
    "job._syftbox_client"
   ]
  },
  {
   "cell_type": "code",
   "execution_count": null,
   "id": "24",
   "metadata": {
    "metadata": {}
   },
   "outputs": [],
   "source": [
    "ds_client._syftbox_client.datasites"
   ]
  },
  {
   "cell_type": "code",
   "execution_count": null,
   "id": "25",
   "metadata": {
    "metadata": {}
   },
   "outputs": [],
   "source": [
    "job.output_url"
   ]
  },
  {
   "cell_type": "code",
   "execution_count": null,
   "id": "26",
   "metadata": {
    "metadata": {}
   },
   "outputs": [],
   "source": [
    "job.get_output_path()"
   ]
  },
  {
   "cell_type": "code",
   "execution_count": null,
   "id": "27",
   "metadata": {},
   "outputs": [],
   "source": []
  }
 ],
 "metadata": {
  "kernelspec": {
   "display_name": "Python 3 (ipykernel)",
   "language": "python",
   "name": "python3"
  },
  "language_info": {
   "codemirror_mode": {
    "name": "ipython",
    "version": 3
   },
   "file_extension": ".py",
   "mimetype": "text/x-python",
   "name": "python",
   "nbconvert_exporter": "python",
   "pygments_lexer": "ipython3",
   "version": "3.12.8"
  }
 },
 "nbformat": 4,
 "nbformat_minor": 5
}
